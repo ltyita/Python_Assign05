{
 "cells": [
  {
   "cell_type": "markdown",
   "id": "0dca46e5",
   "metadata": {},
   "source": [
    "# DS400: Assignment 5 (Python)\n",
    "\n",
    "##### Tingyu Lin (Student ID: 5638679)\n"
   ]
  },
  {
   "cell_type": "code",
   "execution_count": 1,
   "id": "22e6bd3c",
   "metadata": {},
   "outputs": [],
   "source": [
    "import requests\n",
    "import numpy as np\n",
    "import pandas as pd\n",
    "import time"
   ]
  },
  {
   "cell_type": "code",
   "execution_count": 2,
   "id": "8b6d22b9",
   "metadata": {},
   "outputs": [],
   "source": [
    "# hyperlink: https://github.com/ltyita/Python_Assign05.git"
   ]
  },
  {
   "cell_type": "code",
   "execution_count": 8,
   "id": "95311e29",
   "metadata": {},
   "outputs": [],
   "source": [
    "# Ex6 source API key from another script\n",
    "with open(\"ticket_APIkey.py\") as script:\n",
    "    exec(script.readline())"
   ]
  },
  {
   "cell_type": "markdown",
   "id": "584cbd27",
   "metadata": {},
   "source": [
    "### Exercise 7"
   ]
  },
  {
   "cell_type": "code",
   "execution_count": 11,
   "id": "14f5116e",
   "metadata": {},
   "outputs": [
    {
     "data": {
      "text/plain": [
       "{'size': 20, 'totalElements': 4750, 'totalPages': 238, 'number': 0}"
      ]
     },
     "execution_count": 11,
     "metadata": {},
     "output_type": "execute_result"
    }
   ],
   "source": [
    "from IPython.display import Markdown as md\n",
    "\n",
    "# Exercise (7)\n",
    "# first GET request that searches for event venues in Germany\n",
    "response = requests.get(\"https://app.ticketmaster.com/discovery/v2/venues.json?\",\n",
    "                        params = {\"countryCode\": \"DE\", \"apikey\" : api_key})\n",
    "\n",
    "# extract content\n",
    "DE_content = response.json()\n",
    "\n",
    "\n",
    "# number of page and observation\n",
    "n = DE_content['page']\n",
    "n\n"
   ]
  },
  {
   "cell_type": "code",
   "execution_count": 13,
   "id": "c6fd3b06",
   "metadata": {},
   "outputs": [
    {
     "data": {
      "text/markdown": [
       "From data frame, it suggests that each page contains 20 observations,and there are 4750 events in Germany, which make them 238-page long. And we are currently at page 0."
      ],
      "text/plain": [
       "<IPython.core.display.Markdown object>"
      ]
     },
     "execution_count": 13,
     "metadata": {},
     "output_type": "execute_result"
    }
   ],
   "source": [
    "md(f'From data frame, it suggests that each page contains 20 observations,\\\n",
    "and there are {n[\"totalElements\"]} events in Germany, which make them {n[\"totalPages\"]}-page long. And we are currently at page 0.')\n"
   ]
  },
  {
   "cell_type": "markdown",
   "id": "ae9e8439",
   "metadata": {},
   "source": [
    "### Exercise 8"
   ]
  },
  {
   "cell_type": "code",
   "execution_count": 15,
   "id": "7cd6e733",
   "metadata": {},
   "outputs": [
    {
     "data": {
      "text/html": [
       "<div>\n",
       "<style scoped>\n",
       "    .dataframe tbody tr th:only-of-type {\n",
       "        vertical-align: middle;\n",
       "    }\n",
       "\n",
       "    .dataframe tbody tr th {\n",
       "        vertical-align: top;\n",
       "    }\n",
       "\n",
       "    .dataframe thead th {\n",
       "        text-align: right;\n",
       "    }\n",
       "</style>\n",
       "<table border=\"1\" class=\"dataframe\">\n",
       "  <thead>\n",
       "    <tr style=\"text-align: right;\">\n",
       "      <th></th>\n",
       "      <th>name</th>\n",
       "      <th>city</th>\n",
       "      <th>postalCode</th>\n",
       "      <th>address</th>\n",
       "      <th>url</th>\n",
       "      <th>longitude</th>\n",
       "      <th>latitude</th>\n",
       "    </tr>\n",
       "  </thead>\n",
       "  <tbody>\n",
       "    <tr>\n",
       "      <th>0</th>\n",
       "      <td>Grosse Freiheit 36</td>\n",
       "      <td>Hamburg</td>\n",
       "      <td>22767</td>\n",
       "      <td>Grosse Freiheit 36</td>\n",
       "      <td>http://www.ticketmaster.de/venue/287636</td>\n",
       "      <td>9.957905</td>\n",
       "      <td>53.551187</td>\n",
       "    </tr>\n",
       "    <tr>\n",
       "      <th>1</th>\n",
       "      <td>Gruenspan</td>\n",
       "      <td>Hamburg</td>\n",
       "      <td>22767</td>\n",
       "      <td>Grosse Freiheit 58</td>\n",
       "      <td>http://www.ticketmaster.de/venue/287155</td>\n",
       "      <td>9.958075</td>\n",
       "      <td>53.551885</td>\n",
       "    </tr>\n",
       "    <tr>\n",
       "      <th>2</th>\n",
       "      <td>Huxleys Neue Welt</td>\n",
       "      <td>Berlin</td>\n",
       "      <td>10967</td>\n",
       "      <td>Hasenheide 107 – 113</td>\n",
       "      <td>http://www.ticketmaster.de/venue/286842</td>\n",
       "      <td>13.42138</td>\n",
       "      <td>52.486391</td>\n",
       "    </tr>\n",
       "    <tr>\n",
       "      <th>3</th>\n",
       "      <td>Virtual Event</td>\n",
       "      <td>Worldwide</td>\n",
       "      <td>NaN</td>\n",
       "      <td>NaN</td>\n",
       "      <td>https://www.ticketmaster.de/venue/virtuelles-e...</td>\n",
       "      <td>10.0</td>\n",
       "      <td>50.0</td>\n",
       "    </tr>\n",
       "    <tr>\n",
       "      <th>4</th>\n",
       "      <td>Mojo Club</td>\n",
       "      <td>Hamburg</td>\n",
       "      <td>20359</td>\n",
       "      <td>Reeperbahn 1</td>\n",
       "      <td>https://www.ticketmaster.de/venue/mojo-club-ha...</td>\n",
       "      <td>9.64719</td>\n",
       "      <td>53.75287</td>\n",
       "    </tr>\n",
       "    <tr>\n",
       "      <th>5</th>\n",
       "      <td>Ev. St. Jacobi Kirche</td>\n",
       "      <td>Sangerhausen</td>\n",
       "      <td>06526</td>\n",
       "      <td>Marktplatz</td>\n",
       "      <td>http://www.ticketmaster.de/venue/290061</td>\n",
       "      <td>NaN</td>\n",
       "      <td>NaN</td>\n",
       "    </tr>\n",
       "    <tr>\n",
       "      <th>6</th>\n",
       "      <td>Evangelische Kirche</td>\n",
       "      <td>Senden</td>\n",
       "      <td>48308</td>\n",
       "      <td>Steverstrasse 5</td>\n",
       "      <td>http://www.ticketmaster.de/venue/290066</td>\n",
       "      <td>NaN</td>\n",
       "      <td>NaN</td>\n",
       "    </tr>\n",
       "    <tr>\n",
       "      <th>7</th>\n",
       "      <td>HDI Arena</td>\n",
       "      <td>Hannover</td>\n",
       "      <td>NaN</td>\n",
       "      <td>Robert-Enke-Straße 1</td>\n",
       "      <td>http://www.ticketmaster.de/venue/461692</td>\n",
       "      <td>9.73371</td>\n",
       "      <td>52.361993</td>\n",
       "    </tr>\n",
       "    <tr>\n",
       "      <th>8</th>\n",
       "      <td>Arsenal</td>\n",
       "      <td>Berlin</td>\n",
       "      <td>10785</td>\n",
       "      <td>Potsdamer Strasse 2</td>\n",
       "      <td>http://www.ticketmaster.de/venue/290646</td>\n",
       "      <td>NaN</td>\n",
       "      <td>NaN</td>\n",
       "    </tr>\n",
       "    <tr>\n",
       "      <th>9</th>\n",
       "      <td>Freilichtbühne Heppenheim</td>\n",
       "      <td>Heppenheim</td>\n",
       "      <td>64646</td>\n",
       "      <td>Oberhalb der Stadt</td>\n",
       "      <td>http://www.ticketmaster.de/venue/290639</td>\n",
       "      <td>NaN</td>\n",
       "      <td>NaN</td>\n",
       "    </tr>\n",
       "    <tr>\n",
       "      <th>10</th>\n",
       "      <td>Schlosswallhalle</td>\n",
       "      <td>Osnabrück</td>\n",
       "      <td>49074</td>\n",
       "      <td>Schlosswall 10</td>\n",
       "      <td>http://www.ticketmaster.de/venue/290630</td>\n",
       "      <td>NaN</td>\n",
       "      <td>NaN</td>\n",
       "    </tr>\n",
       "    <tr>\n",
       "      <th>11</th>\n",
       "      <td>Metropol Theater</td>\n",
       "      <td>Vechta</td>\n",
       "      <td>49377</td>\n",
       "      <td>Kolpingstrasse 27</td>\n",
       "      <td>http://www.ticketmaster.de/venue/290631</td>\n",
       "      <td>NaN</td>\n",
       "      <td>NaN</td>\n",
       "    </tr>\n",
       "    <tr>\n",
       "      <th>12</th>\n",
       "      <td>RÖDERMARK - Kulturhalle</td>\n",
       "      <td>Rödermark</td>\n",
       "      <td>63322</td>\n",
       "      <td>Dieburger Strasse 27</td>\n",
       "      <td>http://www.ticketmaster.de/venue/290649</td>\n",
       "      <td>NaN</td>\n",
       "      <td>NaN</td>\n",
       "    </tr>\n",
       "    <tr>\n",
       "      <th>13</th>\n",
       "      <td>3922</td>\n",
       "      <td>Tambach</td>\n",
       "      <td>96479</td>\n",
       "      <td>Schlossinnenhof | Schlossallee 1</td>\n",
       "      <td>http://www.ticketmaster.de/venue/290642</td>\n",
       "      <td>NaN</td>\n",
       "      <td>NaN</td>\n",
       "    </tr>\n",
       "    <tr>\n",
       "      <th>14</th>\n",
       "      <td>Nibelungenhalle</td>\n",
       "      <td>Walldürn</td>\n",
       "      <td>74731</td>\n",
       "      <td>Theodor Heuss Ring</td>\n",
       "      <td>http://www.ticketmaster.de/venue/290653</td>\n",
       "      <td>NaN</td>\n",
       "      <td>NaN</td>\n",
       "    </tr>\n",
       "    <tr>\n",
       "      <th>15</th>\n",
       "      <td>St. Johannis Kirche</td>\n",
       "      <td>Würzburg</td>\n",
       "      <td>97070</td>\n",
       "      <td>Hofstallstrasse 5</td>\n",
       "      <td>http://www.ticketmaster.de/venue/290650</td>\n",
       "      <td>NaN</td>\n",
       "      <td>NaN</td>\n",
       "    </tr>\n",
       "    <tr>\n",
       "      <th>16</th>\n",
       "      <td>filmkunst 66</td>\n",
       "      <td>Berlin</td>\n",
       "      <td>10623</td>\n",
       "      <td>Bleibtreustrasse 12</td>\n",
       "      <td>http://www.ticketmaster.de/venue/290643</td>\n",
       "      <td>NaN</td>\n",
       "      <td>NaN</td>\n",
       "    </tr>\n",
       "    <tr>\n",
       "      <th>17</th>\n",
       "      <td>Congress Centrum (Europasaal)</td>\n",
       "      <td>Böblingen</td>\n",
       "      <td>71032</td>\n",
       "      <td>Ida Ehre Platz</td>\n",
       "      <td>http://www.ticketmaster.de/venue/290622</td>\n",
       "      <td>NaN</td>\n",
       "      <td>NaN</td>\n",
       "    </tr>\n",
       "    <tr>\n",
       "      <th>18</th>\n",
       "      <td>Sauerland Theater</td>\n",
       "      <td>Arnsberg</td>\n",
       "      <td>59821</td>\n",
       "      <td>Feauxweg 9</td>\n",
       "      <td>http://www.ticketmaster.de/venue/290621</td>\n",
       "      <td>NaN</td>\n",
       "      <td>NaN</td>\n",
       "    </tr>\n",
       "    <tr>\n",
       "      <th>19</th>\n",
       "      <td>Hebbel am Ufer 1</td>\n",
       "      <td>Berlin</td>\n",
       "      <td>10963</td>\n",
       "      <td>Stresemannstrasse 29</td>\n",
       "      <td>http://www.ticketmaster.de/venue/290635</td>\n",
       "      <td>NaN</td>\n",
       "      <td>NaN</td>\n",
       "    </tr>\n",
       "  </tbody>\n",
       "</table>\n",
       "</div>"
      ],
      "text/plain": [
       "                             name          city postalCode  \\\n",
       "0              Grosse Freiheit 36       Hamburg      22767   \n",
       "1                       Gruenspan       Hamburg      22767   \n",
       "2               Huxleys Neue Welt        Berlin      10967   \n",
       "3                   Virtual Event     Worldwide        NaN   \n",
       "4                       Mojo Club       Hamburg      20359   \n",
       "5           Ev. St. Jacobi Kirche  Sangerhausen      06526   \n",
       "6             Evangelische Kirche        Senden      48308   \n",
       "7                       HDI Arena      Hannover        NaN   \n",
       "8                         Arsenal        Berlin      10785   \n",
       "9       Freilichtbühne Heppenheim    Heppenheim      64646   \n",
       "10               Schlosswallhalle     Osnabrück      49074   \n",
       "11               Metropol Theater        Vechta      49377   \n",
       "12        RÖDERMARK - Kulturhalle     Rödermark      63322   \n",
       "13                           3922       Tambach      96479   \n",
       "14                Nibelungenhalle      Walldürn      74731   \n",
       "15            St. Johannis Kirche      Würzburg      97070   \n",
       "16                   filmkunst 66        Berlin      10623   \n",
       "17  Congress Centrum (Europasaal)     Böblingen      71032   \n",
       "18              Sauerland Theater      Arnsberg      59821   \n",
       "19               Hebbel am Ufer 1        Berlin      10963   \n",
       "\n",
       "                             address  \\\n",
       "0                 Grosse Freiheit 36   \n",
       "1                 Grosse Freiheit 58   \n",
       "2               Hasenheide 107 – 113   \n",
       "3                                NaN   \n",
       "4                       Reeperbahn 1   \n",
       "5                         Marktplatz   \n",
       "6                    Steverstrasse 5   \n",
       "7               Robert-Enke-Straße 1   \n",
       "8                Potsdamer Strasse 2   \n",
       "9                 Oberhalb der Stadt   \n",
       "10                    Schlosswall 10   \n",
       "11                 Kolpingstrasse 27   \n",
       "12              Dieburger Strasse 27   \n",
       "13  Schlossinnenhof | Schlossallee 1   \n",
       "14                Theodor Heuss Ring   \n",
       "15                 Hofstallstrasse 5   \n",
       "16               Bleibtreustrasse 12   \n",
       "17                    Ida Ehre Platz   \n",
       "18                        Feauxweg 9   \n",
       "19              Stresemannstrasse 29   \n",
       "\n",
       "                                                  url longitude   latitude  \n",
       "0             http://www.ticketmaster.de/venue/287636  9.957905  53.551187  \n",
       "1             http://www.ticketmaster.de/venue/287155  9.958075  53.551885  \n",
       "2             http://www.ticketmaster.de/venue/286842  13.42138  52.486391  \n",
       "3   https://www.ticketmaster.de/venue/virtuelles-e...      10.0       50.0  \n",
       "4   https://www.ticketmaster.de/venue/mojo-club-ha...   9.64719   53.75287  \n",
       "5             http://www.ticketmaster.de/venue/290061       NaN        NaN  \n",
       "6             http://www.ticketmaster.de/venue/290066       NaN        NaN  \n",
       "7             http://www.ticketmaster.de/venue/461692   9.73371  52.361993  \n",
       "8             http://www.ticketmaster.de/venue/290646       NaN        NaN  \n",
       "9             http://www.ticketmaster.de/venue/290639       NaN        NaN  \n",
       "10            http://www.ticketmaster.de/venue/290630       NaN        NaN  \n",
       "11            http://www.ticketmaster.de/venue/290631       NaN        NaN  \n",
       "12            http://www.ticketmaster.de/venue/290649       NaN        NaN  \n",
       "13            http://www.ticketmaster.de/venue/290642       NaN        NaN  \n",
       "14            http://www.ticketmaster.de/venue/290653       NaN        NaN  \n",
       "15            http://www.ticketmaster.de/venue/290650       NaN        NaN  \n",
       "16            http://www.ticketmaster.de/venue/290643       NaN        NaN  \n",
       "17            http://www.ticketmaster.de/venue/290622       NaN        NaN  \n",
       "18            http://www.ticketmaster.de/venue/290621       NaN        NaN  \n",
       "19            http://www.ticketmaster.de/venue/290635       NaN        NaN  "
      ]
     },
     "execution_count": 15,
     "metadata": {},
     "output_type": "execute_result"
    }
   ],
   "source": [
    "# Exercise (8)\n",
    "# make the first 20 obs as a data frame that contains name, the city, the postalCode and address, \n",
    "# as well as the url and the longitude and latitude. \n",
    "\n",
    "# create an empty data frame dim: 20X7\n",
    "de_venues = pd.DataFrame(index = range(20), columns = range(7))\n",
    "\n",
    "# assign col. names\n",
    "de_venues.columns = [\"name\", \"city\", \"postalCode\", \"address\", \"url\",\n",
    "                     \"longitude\", \"latitude\"]\n",
    "\n",
    "\n",
    "for i in range(0, 20):\n",
    "    try:\n",
    "        de_name = DE_content[\"_embedded\"][\"venues\"][i][\"name\"]\n",
    "    except KeyError:\n",
    "        de_name = np.nan\n",
    "        \n",
    "    try:\n",
    "        de_city = DE_content[\"_embedded\"][\"venues\"][i][\"city\"][\"name\"]\n",
    "    except KeyError:\n",
    "        de_city = np.nan\n",
    "    \n",
    "    try:\n",
    "        de_postalCode = DE_content[\"_embedded\"][\"venues\"][i][\"postalCode\"]\n",
    "    except KeyError:\n",
    "        de_postalCode = np.nan\n",
    "    \n",
    "    try:\n",
    "        de_address = DE_content[\"_embedded\"][\"venues\"][i][\"address\"][\"line1\"]\n",
    "    except KeyError:\n",
    "        de_address = np.nan\n",
    "    \n",
    "    try:\n",
    "        de_url = DE_content[\"_embedded\"][\"venues\"][i][\"url\"]\n",
    "    except KeyError:\n",
    "        de_url = np.nan\n",
    "    \n",
    "    try:\n",
    "        de_longitude = DE_content[\"_embedded\"][\"venues\"][i][\"location\"][\"longitude\"]\n",
    "    except KeyError:\n",
    "        de_longitude = np.nan\n",
    "    \n",
    "    try:\n",
    "        de_latitude = DE_content[\"_embedded\"][\"venues\"][i][\"location\"][\"latitude\"]\n",
    "    except KeyError:\n",
    "        de_latitude = np.nan\n",
    "    \n",
    "    de_venues.iloc[i,:] = [de_name, de_city, de_postalCode, de_address,\n",
    "                           de_url, de_longitude, de_latitude]   \n",
    "\n",
    "\n",
    "de_venues"
   ]
  },
  {
   "cell_type": "markdown",
   "id": "ac56759b",
   "metadata": {},
   "source": [
    "### Exercise 9"
   ]
  },
  {
   "cell_type": "code",
   "execution_count": 29,
   "id": "7235beed",
   "metadata": {},
   "outputs": [],
   "source": [
    "# create function\n",
    "\n",
    "# Exercise (9) iterate every page\n",
    "\n",
    "\n",
    "def venue_page(page, country_name):\n",
    "    time.sleep(.2)\n",
    "    \n",
    "    # get request\n",
    "    de_response = requests.get(\"https://app.ticketmaster.com/discovery/v2/venues.json?\",\n",
    "                            params = {\"page\" : page, \n",
    "                                      \"countryCode\": country_name, \n",
    "                                      \"apikey\" : api_key})\n",
    "\n",
    "    # extract content\n",
    "    page_content = de_response.json()\n",
    "    \n",
    "    # create an indicator to deal with keyError\n",
    "    indicator  = True\n",
    "\n",
    "    while indicator:\n",
    "        try:\n",
    "            time.sleep(.2)\n",
    "            # no. of obs. in each page\n",
    "            no_obs =len(page_content[\"_embedded\"][\"venues\"])\n",
    "            indicator = False\n",
    "        except KeyError:\n",
    "            de_response = requests.get(\"https://app.ticketmaster.com/discovery/v2/venues.json?\",\n",
    "                                    params = {\"page\" : page, \n",
    "                                              \"countryCode\": country_name, \n",
    "                                              \"apikey\" : api_key})\n",
    "            page_content = de_response.json()\n",
    "            no_obs =len(page_content[\"_embedded\"][\"venues\"])\n",
    "            indicator = True\n",
    "    \n",
    "    \n",
    "    # loop through each obs.\n",
    "    Germany_df = pd.DataFrame()\n",
    "    for k in range(0, no_obs):\n",
    "        try:\n",
    "            de_name = page_content[\"_embedded\"][\"venues\"][k][\"name\"]\n",
    "        except KeyError:\n",
    "            de_name = np.nan\n",
    "            \n",
    "        try:\n",
    "            de_city = page_content[\"_embedded\"][\"venues\"][k][\"city\"][\"name\"]\n",
    "        except KeyError:\n",
    "            de_city = np.nan\n",
    "        \n",
    "        try:\n",
    "            de_postalCode = page_content[\"_embedded\"][\"venues\"][k][\"postalCode\"]\n",
    "        except KeyError:\n",
    "            de_postalCode = np.nan\n",
    "        \n",
    "        try:\n",
    "            de_address = page_content[\"_embedded\"][\"venues\"][k][\"address\"][\"line1\"]\n",
    "        except KeyError:\n",
    "            de_address = np.nan\n",
    "        \n",
    "        try:\n",
    "            de_url = page_content[\"_embedded\"][\"venues\"][k][\"url\"]\n",
    "        except KeyError:\n",
    "            de_url = np.nan\n",
    "        \n",
    "        try:\n",
    "            de_longitude = page_content[\"_embedded\"][\"venues\"][k][\"location\"][\"longitude\"]\n",
    "        except KeyError:\n",
    "            de_longitude = np.nan\n",
    "        \n",
    "        try:\n",
    "            de_latitude = page_content[\"_embedded\"][\"venues\"][k][\"location\"][\"latitude\"]\n",
    "        except KeyError:\n",
    "            de_latitude = np.nan\n",
    "        \n",
    "        Germany_venues = pd.DataFrame([de_name, de_city, de_postalCode, de_address,\n",
    "                                       de_url, de_longitude, de_latitude]).T\n",
    "        Germany_df = pd.concat([Germany_df, Germany_venues], ignore_index= True)\n",
    "              \n",
    "    Germany_df.columns = [\"name\", \"city\", \"postalCode\", \"address\", \"url\",\n",
    "                          \"longitude\", \"latitude\"]\n",
    "        \n",
    "    return Germany_df\n",
    "      \n",
    "        "
   ]
  },
  {
   "cell_type": "code",
   "execution_count": 30,
   "id": "1352319c",
   "metadata": {},
   "outputs": [],
   "source": [
    "# ex9 call function\n",
    "country_de = [\"DE\"] * n[\"totalPages\"]\n",
    "test1 = list(map(venue_page, range(0, n[\"totalPages\"]), country_de))\n",
    "\n",
    "# flaten the list\n",
    "all_obs = pd.DataFrame()\n",
    "for x in test1:\n",
    "    all_obs = pd.concat([all_obs, x], ignore_index= True)\n",
    "\n",
    "\n"
   ]
  },
  {
   "cell_type": "code",
   "execution_count": 31,
   "id": "45bfb66e",
   "metadata": {},
   "outputs": [
    {
     "name": "stdout",
     "output_type": "stream",
     "text": [
      "                        name          city postalCode               address  \\\n",
      "0         Grosse Freiheit 36       Hamburg      22767    Grosse Freiheit 36   \n",
      "1                  Gruenspan       Hamburg      22767    Grosse Freiheit 58   \n",
      "2          Huxleys Neue Welt        Berlin      10967  Hasenheide 107 – 113   \n",
      "3              Virtual Event     Worldwide        NaN                   NaN   \n",
      "4                  Mojo Club       Hamburg      20359          Reeperbahn 1   \n",
      "5      Ev. St. Jacobi Kirche  Sangerhausen      06526            Marktplatz   \n",
      "6        Evangelische Kirche        Senden      48308       Steverstrasse 5   \n",
      "7                  HDI Arena      Hannover        NaN  Robert-Enke-Straße 1   \n",
      "8                    Arsenal        Berlin      10785   Potsdamer Strasse 2   \n",
      "9  Freilichtbühne Heppenheim    Heppenheim      64646    Oberhalb der Stadt   \n",
      "\n",
      "                                                 url longitude   latitude  \n",
      "0            http://www.ticketmaster.de/venue/287636  9.957905  53.551187  \n",
      "1            http://www.ticketmaster.de/venue/287155  9.958075  53.551885  \n",
      "2            http://www.ticketmaster.de/venue/286842  13.42138  52.486391  \n",
      "3  https://www.ticketmaster.de/venue/virtuelles-e...      10.0       50.0  \n",
      "4  https://www.ticketmaster.de/venue/mojo-club-ha...   9.64719   53.75287  \n",
      "5            http://www.ticketmaster.de/venue/290061       NaN        NaN  \n",
      "6            http://www.ticketmaster.de/venue/290066       NaN        NaN  \n",
      "7            http://www.ticketmaster.de/venue/461692   9.73371  52.361993  \n",
      "8            http://www.ticketmaster.de/venue/290646       NaN        NaN  \n",
      "9            http://www.ticketmaster.de/venue/290639       NaN        NaN  \n"
     ]
    },
    {
     "data": {
      "text/plain": [
       "(4750, 7)"
      ]
     },
     "execution_count": 31,
     "metadata": {},
     "output_type": "execute_result"
    }
   ],
   "source": [
    "# first 10 obs\n",
    "DE_head = all_obs.head(10)\n",
    "print(DE_head)\n",
    "\n",
    "# shape\n",
    "all_obs.shape"
   ]
  },
  {
   "cell_type": "markdown",
   "id": "d83fcc22",
   "metadata": {},
   "source": [
    "### Exercise 10"
   ]
  },
  {
   "cell_type": "code",
   "execution_count": 20,
   "id": "a3ec0d47",
   "metadata": {},
   "outputs": [],
   "source": [
    "# ex10 de map\n",
    "import geopandas as gpd\n",
    "import matplotlib.pyplot as plt\n"
   ]
  },
  {
   "cell_type": "code",
   "execution_count": 32,
   "id": "646953eb",
   "metadata": {},
   "outputs": [
    {
     "data": {
      "text/plain": [
       "<AxesSubplot:>"
      ]
     },
     "execution_count": 32,
     "metadata": {},
     "output_type": "execute_result"
    },
    {
     "data": {
      "image/png": "[encoded data removed]",
      "text/plain": [
       "<Figure size 432x288 with 1 Axes>"
      ]
     },
     "metadata": {
      "needs_background": "light"
     },
     "output_type": "display_data"
    },
    {
     "data": {
      "image/png": "[encoded data removed]",
      "text/plain": [
       "<Figure size 432x288 with 1 Axes>"
      ]
     },
     "metadata": {
      "needs_background": "light"
     },
     "output_type": "display_data"
    }
   ],
   "source": [
    "# conver datatype object to float\n",
    "all_obs['longitude'] = all_obs['longitude'].astype(str).astype(float)\n",
    "all_obs['latitude'] = all_obs['latitude'].astype(str).astype(float)\n",
    "\n",
    "# assign nan to 0s.\n",
    "all_obs.loc[all_obs[\"longitude\"] == 0, \"longitude\"] = np.nan  \n",
    "all_obs.loc[all_obs[\"latitude\"] == 0, \"latitude\"] = np.nan  \n",
    "    \n",
    "\n",
    "# get a base map of Germany\n",
    "map_de = gpd.read_file(gpd.datasets.get_path(\"naturalearth_lowres\"))\n",
    "map_de = map_de[map_de.name == \"Germany\"]\n",
    "\n",
    "# plot the map\n",
    "map_de.plot()\n",
    "\n",
    "\n",
    "# add points on the map (with extreme values)\n",
    "geometry = gpd.points_from_xy(x=all_obs['longitude'], y=all_obs['latitude'])\n",
    "gdf = gpd.GeoDataFrame(all_obs, geometry=geometry) \n",
    "gdf.plot(ax=map_de.plot(), color='red', markersize=3)\n"
   ]
  },
  {
   "cell_type": "markdown",
   "id": "3567b966",
   "metadata": {},
   "source": [
    "### Exercise 11"
   ]
  },
  {
   "cell_type": "code",
   "execution_count": 33,
   "id": "a08720e7",
   "metadata": {},
   "outputs": [
    {
     "data": {
      "text/plain": [
       "<AxesSubplot:>"
      ]
     },
     "execution_count": 33,
     "metadata": {},
     "output_type": "execute_result"
    },
    {
     "data": {
      "image/png": "[encoded data removed]",
      "text/plain": [
       "<Figure size 432x288 with 1 Axes>"
      ]
     },
     "metadata": {
      "needs_background": "light"
     },
     "output_type": "display_data"
    }
   ],
   "source": [
    "# ex11 add points on the map w/o extreme values\n",
    "all_obs.loc[(all_obs[\"latitude\"] <= 47.270) | (all_obs[\"latitude\"] >= 55.059), \"latitude\"] = np.nan\n",
    "all_obs.loc[(all_obs[\"longitude\"] <= 5.866) | (all_obs[\"longitude\"] >= 15.042), \"longitude\"] = np.nan\n",
    "\n",
    "\n",
    "geometry1 = gpd.points_from_xy(x=all_obs['longitude'], y=all_obs['latitude'])\n",
    "gdf1 = gpd.GeoDataFrame(all_obs, geometry=geometry1) \n",
    "gdf1.plot(ax=map_de.plot(), color='red', markersize=3)\n",
    "\n"
   ]
  },
  {
   "cell_type": "markdown",
   "id": "196af153",
   "metadata": {},
   "source": [
    "### Redo Ex9-11 (Spain)"
   ]
  },
  {
   "cell_type": "code",
   "execution_count": 34,
   "id": "cf26022a",
   "metadata": {},
   "outputs": [
    {
     "data": {
      "text/plain": [
       "{'size': 20, 'totalElements': 3218, 'totalPages': 161, 'number': 0}"
      ]
     },
     "execution_count": 34,
     "metadata": {},
     "output_type": "execute_result"
    }
   ],
   "source": [
    "# Redo ex9-ex11.  \n",
    "\n",
    "# General info Spain\n",
    "# first GET request that searches for event venues in Germany\n",
    "response_ES = requests.get(\"https://app.ticketmaster.com/discovery/v2/venues.json?\",\n",
    "                        params = {\"countryCode\": \"ES\", \"apikey\" : api_key})\n",
    "\n",
    "# extract content\n",
    "ES_content = response_ES.json()\n",
    "\n",
    "\n",
    "# number of page and observation\n",
    "n_ES = ES_content['page']\n",
    "\n",
    "n_ES"
   ]
  },
  {
   "cell_type": "code",
   "execution_count": 35,
   "id": "d2302d5c",
   "metadata": {},
   "outputs": [
    {
     "data": {
      "text/markdown": [
       "From data frame, it suggests that each page contains 20 observations,and there are 3218 events in Spain, which make them 161-page long. And we are currently at page 0."
      ],
      "text/plain": [
       "<IPython.core.display.Markdown object>"
      ]
     },
     "execution_count": 35,
     "metadata": {},
     "output_type": "execute_result"
    }
   ],
   "source": [
    "md(f'From data frame, it suggests that each page contains 20 observations,\\\n",
    "and there are {n_ES[\"totalElements\"]} events in Spain, which make them {n_ES[\"totalPages\"]}-page long. And we are currently at page 0.')\n"
   ]
  },
  {
   "cell_type": "markdown",
   "id": "a6d09718",
   "metadata": {},
   "source": [
    "### Redo Exercise 9"
   ]
  },
  {
   "cell_type": "code",
   "execution_count": null,
   "id": "cf40137c",
   "metadata": {},
   "outputs": [],
   "source": [
    "# ex9 call function\n",
    "country_ES = [\"ES\"] * n_ES[\"totalPages\"]\n",
    "test_ES = list(map(venue_page, range(0, n_ES[\"totalPages\"]), country_ES))\n",
    "\n",
    "# flaten the list\n",
    "ES_obs = pd.DataFrame()\n",
    "for x in test_ES:\n",
    "    ES_obs = pd.concat([ES_obs, x], ignore_index= True)\n"
   ]
  },
  {
   "cell_type": "code",
   "execution_count": null,
   "id": "ee5f77e5",
   "metadata": {},
   "outputs": [],
   "source": [
    "# first 10 obs\n",
    "ES_head = ES_obs.head(10)\n",
    "print(ES_head)\n",
    "\n",
    "# shape\n",
    "ES_obs.shape"
   ]
  }
 ],
 "metadata": {
  "kernelspec": {
   "display_name": "Python 3 (ipykernel)",
   "language": "python",
   "name": "python3"
  },
  "language_info": {
   "codemirror_mode": {
    "name": "ipython",
    "version": 3
   },
   "file_extension": ".py",
   "mimetype": "text/x-python",
   "name": "python",
   "nbconvert_exporter": "python",
   "pygments_lexer": "ipython3",
   "version": "3.9.12"
  }
 },
 "nbformat": 4,
 "nbformat_minor": 5
}
