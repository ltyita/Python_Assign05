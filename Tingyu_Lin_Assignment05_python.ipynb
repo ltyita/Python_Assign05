{
 "cells": [
  {
   "cell_type": "markdown",
   "id": "2aca3f68",
   "metadata": {},
   "source": [
    "# DS400: Assignment 5 (Python)\n",
    "\n",
    "##### Tingyu Lin (Student ID: 5638679)\n"
   ]
  },
  {
   "cell_type": "code",
   "execution_count": 1,
   "id": "35fc1fb9",
   "metadata": {},
   "outputs": [],
   "source": [
    "import requests\n",
    "import numpy as np\n",
    "import pandas as pd\n",
    "import time"
   ]
  },
  {
   "cell_type": "code",
   "execution_count": 2,
   "id": "89081e30",
   "metadata": {},
   "outputs": [],
   "source": [
    "# hyperlink: https://github.com/ltyita/Python_Assign05.git"
   ]
  },
  {
   "cell_type": "code",
   "execution_count": 8,
   "id": "6133fd08",
   "metadata": {},
   "outputs": [],
   "source": [
    "# Ex6 source API key from another script\n",
    "with open(\"ticket_APIkey.py\") as script:\n",
    "    exec(script.readline())"
   ]
  },
  {
   "cell_type": "markdown",
   "id": "eabf6db0",
   "metadata": {},
   "source": [
    "### Exercise 7"
   ]
  },
  {
   "cell_type": "code",
   "execution_count": 11,
   "id": "a1d82502",
   "metadata": {},
   "outputs": [
    {
     "data": {
      "text/plain": [
       "{'size': 20, 'totalElements': 4750, 'totalPages': 238, 'number': 0}"
      ]
     },
     "execution_count": 11,
     "metadata": {},
     "output_type": "execute_result"
    }
   ],
   "source": [
    "from IPython.display import Markdown as md\n",
    "\n",
    "# Exercise (7)\n",
    "# first GET request that searches for event venues in Germany\n",
    "response = requests.get(\"https://app.ticketmaster.com/discovery/v2/venues.json?\",\n",
    "                        params = {\"countryCode\": \"DE\", \"apikey\" : api_key})\n",
    "\n",
    "# extract content\n",
    "DE_content = response.json()\n",
    "\n",
    "\n",
    "# number of page and observation\n",
    "n = DE_content['page']\n",
    "n\n"
   ]
  },
  {
   "cell_type": "code",
   "execution_count": 12,
   "id": "14ab8827",
   "metadata": {},
   "outputs": [
    {
     "ename": "SyntaxError",
     "evalue": "f-string: unmatched '[' (1680478580.py, line 2)",
     "output_type": "error",
     "traceback": [
      "\u001b[1;36m  Input \u001b[1;32mIn [12]\u001b[1;36m\u001b[0m\n\u001b[1;33m    and there are {n['totalElements']} events in Germany, which make them {n[\"totalPages\"]}-page long. And we are currently at page 0.')\u001b[0m\n\u001b[1;37m                      ^\u001b[0m\n\u001b[1;31mSyntaxError\u001b[0m\u001b[1;31m:\u001b[0m f-string: unmatched '['\n"
     ]
    }
   ],
   "source": [
    "md(f'From data frame, it suggests that each page contains 20 observations,\\\n",
    "and there are {n['totalElements']} events in Germany, which make them {n[\"totalPages\"]}-page long. And we are currently at page 0.')\n"
   ]
  },
  {
   "cell_type": "code",
   "execution_count": null,
   "id": "50cae637",
   "metadata": {},
   "outputs": [],
   "source": []
  },
  {
   "cell_type": "code",
   "execution_count": null,
   "id": "a3a513cd",
   "metadata": {},
   "outputs": [],
   "source": []
  },
  {
   "cell_type": "code",
   "execution_count": null,
   "id": "15b3c0a7",
   "metadata": {},
   "outputs": [],
   "source": []
  },
  {
   "cell_type": "code",
   "execution_count": null,
   "id": "3214aab1",
   "metadata": {},
   "outputs": [],
   "source": []
  }
 ],
 "metadata": {
  "kernelspec": {
   "display_name": "Python 3 (ipykernel)",
   "language": "python",
   "name": "python3"
  },
  "language_info": {
   "codemirror_mode": {
    "name": "ipython",
    "version": 3
   },
   "file_extension": ".py",
   "mimetype": "text/x-python",
   "name": "python",
   "nbconvert_exporter": "python",
   "pygments_lexer": "ipython3",
   "version": "3.9.12"
  }
 },
 "nbformat": 4,
 "nbformat_minor": 5
}
