{
 "cells": [
  {
   "cell_type": "markdown",
   "id": "1d12c586",
   "metadata": {},
   "source": [
    "# DS400: Assignment 5 (Python)\n",
    "\n",
    "##### Tingyu Lin (Student ID: 5638679)\n"
   ]
  },
  {
   "cell_type": "code",
   "execution_count": 1,
   "id": "c3157c5d",
   "metadata": {},
   "outputs": [],
   "source": [
    "import requests\n",
    "import numpy as np\n",
    "import pandas as pd\n",
    "import time"
   ]
  },
  {
   "cell_type": "code",
   "execution_count": 2,
   "id": "b25d7ef3",
   "metadata": {},
   "outputs": [],
   "source": [
    "# hyperlink: https://github.com/ltyita/Python_Assign05.git"
   ]
  },
  {
   "cell_type": "code",
   "execution_count": 8,
   "id": "f28448ea",
   "metadata": {},
   "outputs": [],
   "source": [
    "# Ex6 source API key from another script\n",
    "with open(\"ticket_APIkey.py\") as script:\n",
    "    exec(script.readline())"
   ]
  },
  {
   "cell_type": "code",
   "execution_count": 5,
   "id": "923a3ecf",
   "metadata": {},
   "outputs": [
    {
     "data": {
      "text/plain": [
       "'C:\\\\Users\\\\USER\\\\Desktop\\\\python_Assign05'"
      ]
     },
     "execution_count": 5,
     "metadata": {},
     "output_type": "execute_result"
    }
   ],
   "source": []
  },
  {
   "cell_type": "code",
   "execution_count": null,
   "id": "525d63c2",
   "metadata": {},
   "outputs": [],
   "source": []
  },
  {
   "cell_type": "code",
   "execution_count": null,
   "id": "50db5247",
   "metadata": {},
   "outputs": [],
   "source": []
  },
  {
   "cell_type": "code",
   "execution_count": null,
   "id": "cce9c2d0",
   "metadata": {},
   "outputs": [],
   "source": []
  },
  {
   "cell_type": "code",
   "execution_count": null,
   "id": "cacf33a8",
   "metadata": {},
   "outputs": [],
   "source": []
  },
  {
   "cell_type": "code",
   "execution_count": null,
   "id": "3ae5d925",
   "metadata": {},
   "outputs": [],
   "source": []
  },
  {
   "cell_type": "code",
   "execution_count": null,
   "id": "aa977219",
   "metadata": {},
   "outputs": [],
   "source": []
  }
 ],
 "metadata": {
  "kernelspec": {
   "display_name": "Python 3 (ipykernel)",
   "language": "python",
   "name": "python3"
  },
  "language_info": {
   "codemirror_mode": {
    "name": "ipython",
    "version": 3
   },
   "file_extension": ".py",
   "mimetype": "text/x-python",
   "name": "python",
   "nbconvert_exporter": "python",
   "pygments_lexer": "ipython3",
   "version": "3.9.12"
  }
 },
 "nbformat": 4,
 "nbformat_minor": 5
}
